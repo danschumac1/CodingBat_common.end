{
 "cells": [
  {
   "cell_type": "markdown",
   "id": "f5605193",
   "metadata": {},
   "source": [
    "# List-1 > common_end\n"
   ]
  },
  {
   "cell_type": "markdown",
   "id": "14faecd5",
   "metadata": {},
   "source": [
    "Given 2 arrays of ints, a and b, return True if they have the same first element or they have the same last element. Both arrays will be length 1 or more.\n",
    "\n",
    "\n",
    "common_end([1, 2, 3], [7, 3]) → True\n",
    "\n",
    "common_end([1, 2, 3], [7, 3, 2]) → False\n",
    "\n",
    "common_end([1, 2, 3], [1, 3]) → True"
   ]
  },
  {
   "cell_type": "code",
   "execution_count": 1,
   "id": "a596f7d6",
   "metadata": {},
   "outputs": [],
   "source": [
    "def common_end(a, b):\n",
    "  if a[0] == b[0] or a[-1] == b[-1]:\n",
    "    return True\n",
    "  else:\n",
    "    return False"
   ]
  }
 ],
 "metadata": {
  "kernelspec": {
   "display_name": "Python 3 (ipykernel)",
   "language": "python",
   "name": "python3"
  },
  "language_info": {
   "codemirror_mode": {
    "name": "ipython",
    "version": 3
   },
   "file_extension": ".py",
   "mimetype": "text/x-python",
   "name": "python",
   "nbconvert_exporter": "python",
   "pygments_lexer": "ipython3",
   "version": "3.9.12"
  }
 },
 "nbformat": 4,
 "nbformat_minor": 5
}
